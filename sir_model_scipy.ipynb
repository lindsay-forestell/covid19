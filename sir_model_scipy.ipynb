{
 "cells": [
  {
   "cell_type": "code",
   "execution_count": 105,
   "metadata": {},
   "outputs": [],
   "source": [
    "import numpy as np\n",
    "import matplotlib.pyplot as plt\n",
    "from scipy.integrate import odeint\n",
    "# from lmfit import minimize, Parameters, Parameter, report_fit\n",
    "from scipy import optimize\n",
    "\n",
    "plt.style.use('seaborn-darkgrid')\n",
    "\n",
    "from sklearn.preprocessing import StandardScaler, MinMaxScaler\n",
    "\n",
    "import os\n",
    "\n",
    "from sklearn.externals import joblib \n",
    "\n",
    "import pandas as pd\n",
    "import seaborn as sns\n",
    "from scipy.stats import halfnorm"
   ]
  },
  {
   "cell_type": "code",
   "execution_count": 340,
   "metadata": {},
   "outputs": [],
   "source": [
    "def get_country_sir(country, start_date='', end_date='', min_cases=10):\n",
    "    \n",
    "    # update for any country\n",
    "    # italy\n",
    "    population = 60e6\n",
    "    \n",
    "    # bc\n",
    "    population = 5110917\n",
    "    \n",
    "    country = country.title().replace(' ', '_')\n",
    "    file = os.path.join('csv_out',country+'.csv')\n",
    "    country_df = pd.read_csv(file)\n",
    "    \n",
    "    start = country_df[country_df.Date == start_date].index\n",
    "    if len(start)==0:\n",
    "        start = 0\n",
    "    else:\n",
    "        start = start[0]\n",
    "        \n",
    "    end = country_df[country_df.Date == end_date].index\n",
    "    if len(end)==0:\n",
    "        end = country_df.index[-1]\n",
    "    else:\n",
    "        end = end[0]\n",
    "        \n",
    "    dates = country_df.loc[start:end + 1, 'Date'].values\n",
    "    data = country_df.loc[start:end + 1, 'Confirmed'].values\n",
    "    deaths = country_df.loc[start:end + 1, 'Deaths'].values\n",
    "    recovered = country_df.loc[start:end+1, 'Recovered'].values\n",
    "\n",
    "    if max(data) < min_cases:\n",
    "        print('Warning, {:d} cases has not occured in this date range.')\n",
    "    else:\n",
    "        min_start = np.where(np.array(data) >= min_cases)[0][0]\n",
    "        data = data[min_start:]\n",
    "        dates = dates[min_start:]\n",
    "        deaths = deaths[min_start:]\n",
    "        recovered = recovered[min_start:]\n",
    "        \n",
    "    # infected = total cases - deaths - recoveries\n",
    "    infected = data - deaths - recovered\n",
    "    \n",
    "    # susceptible = population - infected - deaths - recovered\n",
    "    susceptible = population - infected - deaths - recovered\n",
    "        \n",
    "    \n",
    "\n",
    "    return dates, np.arange(0, len(data)), susceptible/population, infected/population\n",
    "    \n",
    "    "
   ]
  },
  {
   "cell_type": "code",
   "execution_count": 76,
   "metadata": {},
   "outputs": [],
   "source": [
    "# def system of equations\n",
    "def sir_function(y, t, p):\n",
    "    # 'constants'\n",
    "    delta = p[0] #rename to delta when testing\n",
    "    lmbda = p[1]\n",
    "    beta = p[2]*np.exp(-t*delta)\n",
    "    \n",
    "    # y = (s, i)\n",
    "    \n",
    "    # susceptible differential\n",
    "    ds = -y[0]*y[1]*beta\n",
    "    \n",
    "    # infected differential\n",
    "    di = y[0]*y[1]*beta - y[1]*lmbda\n",
    "    \n",
    "    return [ds, di]\n",
    "\n",
    "# def function that will use odeint\n",
    "def sir_solution(t, p, y0):\n",
    "    \n",
    "    y = odeint(sir_function, y0, t, args = (p,))\n",
    "    return y\n",
    "\n",
    "# def residual\n",
    "def sir_residual(p, t, y, y0):\n",
    "    \n",
    "    y_hat = sir_solution(t, p, y0)\n",
    "    resid = y.ravel()-y_hat.ravel()\n",
    "    \n",
    "    return resid\n"
   ]
  },
  {
   "cell_type": "code",
   "execution_count": 352,
   "metadata": {},
   "outputs": [
    {
     "data": {
      "image/png": "[encoded data removed]",
      "text/plain": [
       "<Figure size 432x288 with 2 Axes>"
      ]
     },
     "metadata": {},
     "output_type": "display_data"
    }
   ],
   "source": [
    "dates, x, sus, inf = get_country_sir('Canada British Columbia', min_cases=10)\n",
    "# sus and inf are already normalized\n",
    "# just normalize x\n",
    "x_train = x[:-3]\n",
    "x_test = x[-3:]\n",
    "\n",
    "scalex = MinMaxScaler()\n",
    "x_scale = scalex.fit_transform(x_train.reshape(-1,1)).flatten()\n",
    "\n",
    "sus_train = sus[:-3]\n",
    "sus_test = sus[-3:]\n",
    "\n",
    "inf_train = inf[:-3]\n",
    "inf_test = inf[-3:]\n",
    "\n",
    "# make single array\n",
    "y_train = np.hstack((sus_train.reshape(-1,1), inf_train.reshape(-1,1)))\n",
    "y_test = np.hstack((sus_test.reshape(-1,1), inf_test.reshape(-1,1)))\n",
    "\n",
    "y_train.shape\n",
    "\n",
    "y0 = y_train[0, :]\n",
    "\n",
    "fig, ax = plt.subplots()\n",
    "plt.plot(x_train, y_train[:, 0], c='g', label='suseptible')\n",
    "#plt.legend()\n",
    "ax2 = ax.twinx()\n",
    "ax2.plot(x_train, y_train[:, 1], c='r', label='infected')\n",
    "#plt.legend()\n",
    "plt.show()"
   ]
  },
  {
   "cell_type": "code",
   "execution_count": 353,
   "metadata": {},
   "outputs": [],
   "source": [
    "p0 = [0.1, 0.1, 1]  #delta lmbda beta\n",
    "popt = optimize.least_squares(sir_residual, p0, args = (x_train, y_train, y0))"
   ]
  },
  {
   "cell_type": "code",
   "execution_count": 354,
   "metadata": {},
   "outputs": [
    {
     "data": {
      "text/plain": [
       "array([-0.03206774,  0.00956456,  0.16937006])"
      ]
     },
     "execution_count": 354,
     "metadata": {},
     "output_type": "execute_result"
    }
   ],
   "source": [
    "pnew = popt.x\n",
    "pnew\n",
    "pnew"
   ]
  },
  {
   "cell_type": "code",
   "execution_count": 355,
   "metadata": {},
   "outputs": [
    {
     "data": {
      "text/plain": [
       "17.708092346330677"
      ]
     },
     "execution_count": 355,
     "metadata": {},
     "output_type": "execute_result"
    }
   ],
   "source": [
    "pnew[2]/pnew[1]"
   ]
  },
  {
   "cell_type": "code",
   "execution_count": 358,
   "metadata": {},
   "outputs": [
    {
     "data": {
      "text/plain": [
       "array([-0.03206774,  0.00956456,  0.16937006])"
      ]
     },
     "execution_count": 358,
     "metadata": {},
     "output_type": "execute_result"
    }
   ],
   "source": [
    "popt.x"
   ]
  },
  {
   "cell_type": "code",
   "execution_count": 357,
   "metadata": {},
   "outputs": [
    {
     "data": {
      "text/plain": [
       "[0.03603618543977203, 0.035749270910068597, 0.382575653815731]"
      ]
     },
     "execution_count": 357,
     "metadata": {},
     "output_type": "execute_result"
    }
   ],
   "source": [
    "pnew = [0.9, 1, 9]\n",
    "pnew = [delta, lmbda, beta]\n",
    "pnew"
   ]
  },
  {
   "cell_type": "code",
   "execution_count": 363,
   "metadata": {},
   "outputs": [],
   "source": [
    "last = len(x)\n",
    "num_days = 200\n",
    "extend = np.arange(last, last+num_days)\n",
    "x_updated = np.append(x, extend)\n",
    "y_hat = sir_solution(x_updated, pnew, y0)"
   ]
  },
  {
   "cell_type": "code",
   "execution_count": 366,
   "metadata": {},
   "outputs": [
    {
     "data": {
      "image/png": "[encoded data removed]",
      "text/plain": [
       "<Figure size 432x288 with 2 Axes>"
      ]
     },
     "metadata": {},
     "output_type": "display_data"
    }
   ],
   "source": [
    "fig, ax = plt.subplots()\n",
    "plt.plot(x_train, y_train[:, 0], c='g', label='suseptible')\n",
    "plt.plot(x_updated, y_hat[:, 0], '--g')\n",
    "handles, labels = ax.get_legend_handles_labels()\n",
    "#plt.legend()\n",
    "ax2 = ax.twinx()\n",
    "ax2.plot(x_train, y_train[:, 1], c='r', label='infected')\n",
    "ax2.plot(x_updated, y_hat[:,1], '--r')\n",
    "\n",
    "ax2.plot(x_train, 1-y_train[:,0]-y_train[:, 1], c='b', label='resistant')\n",
    "ax2.plot(x_updated, 1-y_hat[:,0]-y_hat[:, 1], '--b')\n",
    "#plt.ylim([0, 1])\n",
    "#plt.legend()\n",
    "handles1, labels2 = ax2.get_legend_handles_labels()\n",
    "\n",
    "plt.legend(handles = handles+handles1, labels=labels+labels2)\n",
    "plt.show()"
   ]
  },
  {
   "cell_type": "code",
   "execution_count": 143,
   "metadata": {},
   "outputs": [
    {
     "data": {
      "text/plain": [
       "[<matplotlib.lines.Line2D at 0x15d51cb6400>,\n",
       " <matplotlib.lines.Line2D at 0x15d51d4b130>]"
      ]
     },
     "execution_count": 143,
     "metadata": {},
     "output_type": "execute_result"
    }
   ],
   "source": []
  },
  {
   "cell_type": "code",
   "execution_count": 367,
   "metadata": {},
   "outputs": [
    {
     "name": "stdout",
     "output_type": "stream",
     "text": [
      " delta 010/010 -- beta 010/010 -- lmbda 002/002"
     ]
    }
   ],
   "source": [
    "# get distribution of best fits using initial conditions?\n",
    "# draw inits from prior distribution\n",
    "\n",
    "num_samples = 1000\n",
    "\n",
    "results_dict = {'delta':[], 'beta': [], 'lmbda': []}\n",
    "delta_range = np.arange(0, 0.5, 0.05)\n",
    "lmbda_range = np.arange(1/10, 1/5, 0.05)\n",
    "beta_range = np.arange(0.5, 1, 0.05)\n",
    "count = 0\n",
    "while count < 1000:\n",
    "    delta_init = halfnorm(loc=0, scale=1).rvs()#np.random.normal(0)\n",
    "    beta_init = halfnorm(loc=0.5, scale=1).rvs()#np.random.normal(0.5)\n",
    "    lmbda_init = halfnorm(loc=1/9, scale=1).rvs()#np.random.normal(1/9)\n",
    "    \n",
    "    if beta_init > lmbda_init:\n",
    "        count+=1\n",
    "    else:\n",
    "        continue\n",
    "    \n",
    "for ii, delta_init in enumerate(delta_range):\n",
    "    for jj, beta_init in enumerate(beta_range):\n",
    "        for kk, lmbda_init in enumerate(lmbda_range):\n",
    "\n",
    "            p0 = [delta_init, lmbda_init, beta_init]\n",
    "\n",
    "            popt = optimize.least_squares(sir_residual, p0, args = (x_train, y_train, y0))\n",
    "\n",
    "            pnew = popt.x\n",
    "            results_dict['beta'].append(pnew[2])\n",
    "            results_dict['lmbda'].append(pnew[1])\n",
    "            results_dict['delta'].append(pnew[0])\n",
    "            \n",
    "            print_line = '\\r delta {:03d}/{:03d} -- beta {:03d}/{:03d} -- lmbda {:03d}/{:03d}'.format(ii+1, \n",
    "                                                                                                      len(delta_range),\n",
    "                                                                                                      jj+1,\n",
    "                                                                                                      len(beta_range),\n",
    "                                                                                                      kk+1,\n",
    "                                                                                                      len(lmbda_range)\n",
    "                                                                                                      )\n",
    "            print(print_line, end = '')"
   ]
  },
  {
   "cell_type": "code",
   "execution_count": 331,
   "metadata": {},
   "outputs": [
    {
     "data": {
      "text/html": [
       "<div>\n",
       "<style scoped>\n",
       "    .dataframe tbody tr th:only-of-type {\n",
       "        vertical-align: middle;\n",
       "    }\n",
       "\n",
       "    .dataframe tbody tr th {\n",
       "        vertical-align: top;\n",
       "    }\n",
       "\n",
       "    .dataframe thead th {\n",
       "        text-align: right;\n",
       "    }\n",
       "</style>\n",
       "<table border=\"1\" class=\"dataframe\">\n",
       "  <thead>\n",
       "    <tr style=\"text-align: right;\">\n",
       "      <th></th>\n",
       "      <th>delta</th>\n",
       "      <th>beta</th>\n",
       "      <th>lmbda</th>\n",
       "    </tr>\n",
       "  </thead>\n",
       "  <tbody>\n",
       "    <tr>\n",
       "      <th>count</th>\n",
       "      <td>200.000000</td>\n",
       "      <td>200.000000</td>\n",
       "      <td>200.000000</td>\n",
       "    </tr>\n",
       "    <tr>\n",
       "      <th>mean</th>\n",
       "      <td>0.036034</td>\n",
       "      <td>0.382567</td>\n",
       "      <td>0.035749</td>\n",
       "    </tr>\n",
       "    <tr>\n",
       "      <th>std</th>\n",
       "      <td>0.000004</td>\n",
       "      <td>0.000016</td>\n",
       "      <td>0.000002</td>\n",
       "    </tr>\n",
       "    <tr>\n",
       "      <th>min</th>\n",
       "      <td>0.036000</td>\n",
       "      <td>0.382419</td>\n",
       "      <td>0.035723</td>\n",
       "    </tr>\n",
       "    <tr>\n",
       "      <th>25%</th>\n",
       "      <td>0.036034</td>\n",
       "      <td>0.382568</td>\n",
       "      <td>0.035749</td>\n",
       "    </tr>\n",
       "    <tr>\n",
       "      <th>50%</th>\n",
       "      <td>0.036035</td>\n",
       "      <td>0.382570</td>\n",
       "      <td>0.035749</td>\n",
       "    </tr>\n",
       "    <tr>\n",
       "      <th>75%</th>\n",
       "      <td>0.036035</td>\n",
       "      <td>0.382571</td>\n",
       "      <td>0.035749</td>\n",
       "    </tr>\n",
       "    <tr>\n",
       "      <th>max</th>\n",
       "      <td>0.036038</td>\n",
       "      <td>0.382582</td>\n",
       "      <td>0.035754</td>\n",
       "    </tr>\n",
       "  </tbody>\n",
       "</table>\n",
       "</div>"
      ],
      "text/plain": [
       "            delta        beta       lmbda\n",
       "count  200.000000  200.000000  200.000000\n",
       "mean     0.036034    0.382567    0.035749\n",
       "std      0.000004    0.000016    0.000002\n",
       "min      0.036000    0.382419    0.035723\n",
       "25%      0.036034    0.382568    0.035749\n",
       "50%      0.036035    0.382570    0.035749\n",
       "75%      0.036035    0.382571    0.035749\n",
       "max      0.036038    0.382582    0.035754"
      ]
     },
     "execution_count": 331,
     "metadata": {},
     "output_type": "execute_result"
    }
   ],
   "source": [
    "results_df = pd.DataFrame(results_dict)\n",
    "df = results_df.describe()\n",
    "delta_mean = df.loc['mean', 'delta']\n",
    "delta_std = df.loc['std', 'delta']\n",
    "\n",
    "lmbda_mean = df.loc['mean', 'lmbda']\n",
    "lmbda_std = df.loc['std', 'lmbda']\n",
    "\n",
    "beta_mean = df.loc['mean', 'beta']\n",
    "beta_std = df.loc['std', 'beta']\n",
    "\n",
    "df"
   ]
  },
  {
   "cell_type": "code",
   "execution_count": 332,
   "metadata": {},
   "outputs": [
    {
     "data": {
      "text/html": [
       "<div>\n",
       "<style scoped>\n",
       "    .dataframe tbody tr th:only-of-type {\n",
       "        vertical-align: middle;\n",
       "    }\n",
       "\n",
       "    .dataframe tbody tr th {\n",
       "        vertical-align: top;\n",
       "    }\n",
       "\n",
       "    .dataframe thead th {\n",
       "        text-align: right;\n",
       "    }\n",
       "</style>\n",
       "<table border=\"1\" class=\"dataframe\">\n",
       "  <thead>\n",
       "    <tr style=\"text-align: right;\">\n",
       "      <th></th>\n",
       "      <th>delta</th>\n",
       "      <th>beta</th>\n",
       "      <th>lmbda</th>\n",
       "    </tr>\n",
       "  </thead>\n",
       "  <tbody>\n",
       "    <tr>\n",
       "      <th>0</th>\n",
       "      <td>0.036034</td>\n",
       "      <td>0.382567</td>\n",
       "      <td>0.035749</td>\n",
       "    </tr>\n",
       "    <tr>\n",
       "      <th>1</th>\n",
       "      <td>0.036032</td>\n",
       "      <td>0.382558</td>\n",
       "      <td>0.035749</td>\n",
       "    </tr>\n",
       "    <tr>\n",
       "      <th>2</th>\n",
       "      <td>0.036034</td>\n",
       "      <td>0.382566</td>\n",
       "      <td>0.035749</td>\n",
       "    </tr>\n",
       "    <tr>\n",
       "      <th>3</th>\n",
       "      <td>0.036035</td>\n",
       "      <td>0.382571</td>\n",
       "      <td>0.035749</td>\n",
       "    </tr>\n",
       "    <tr>\n",
       "      <th>4</th>\n",
       "      <td>0.036017</td>\n",
       "      <td>0.382506</td>\n",
       "      <td>0.035751</td>\n",
       "    </tr>\n",
       "  </tbody>\n",
       "</table>\n",
       "</div>"
      ],
      "text/plain": [
       "      delta      beta     lmbda\n",
       "0  0.036034  0.382567  0.035749\n",
       "1  0.036032  0.382558  0.035749\n",
       "2  0.036034  0.382566  0.035749\n",
       "3  0.036035  0.382571  0.035749\n",
       "4  0.036017  0.382506  0.035751"
      ]
     },
     "execution_count": 332,
     "metadata": {},
     "output_type": "execute_result"
    }
   ],
   "source": [
    "results_df.head()"
   ]
  },
  {
   "cell_type": "code",
   "execution_count": 333,
   "metadata": {},
   "outputs": [
    {
     "data": {
      "image/png": "[encoded data removed]",
      "text/plain": [
       "<Figure size 540x540 with 12 Axes>"
      ]
     },
     "metadata": {},
     "output_type": "display_data"
    }
   ],
   "source": [
    "sns.pairplot(results_df)\n",
    "plt.show()"
   ]
  },
  {
   "cell_type": "code",
   "execution_count": 334,
   "metadata": {},
   "outputs": [
    {
     "data": {
      "text/plain": [
       "1.6349287826327915e-05"
      ]
     },
     "execution_count": 334,
     "metadata": {},
     "output_type": "execute_result"
    }
   ],
   "source": [
    "a = [1,2,3]\n",
    "np.random.shuffle(a)\n",
    "a\n",
    "beta_std"
   ]
  },
  {
   "cell_type": "code",
   "execution_count": 335,
   "metadata": {},
   "outputs": [],
   "source": [
    "# pull random functions from the options\n",
    "# get all y values \n",
    "num_samples = 100\n",
    "beta_vals = results_df.beta.values\n",
    "delta_vals = results_df.delta.values\n",
    "lmbda_vals = results_df.lmbda.values\n",
    "\n",
    "indices = np.arange(len(beta_vals))\n",
    "\n",
    "last = len(x)\n",
    "num_days = 60\n",
    "extend = np.arange(last, last+num_days)\n",
    "x_updated = np.append(x, extend)\n",
    "\n",
    "y0_array = np.empty((num_samples, len(x_updated)))\n",
    "y1_array = np.empty((num_samples, len(x_updated)))\n",
    "y2_array = np.empty((num_samples, len(x_updated)))\n",
    "for ii in range(num_samples):\n",
    "    #np.random.shuffle(beta_vals)\n",
    "    #np.random.shuffle(delta_vals)\n",
    "    #np.random.shuffle(lmbda_vals)\n",
    "    \n",
    "    np.random.shuffle(indices)\n",
    "    idx = indices[0]\n",
    "    \n",
    "    beta = beta_vals[idx]\n",
    "    delta = delta_vals[idx]\n",
    "    lmbda = lmbda_vals[idx]\n",
    "    \n",
    "    #beta = np.random.normal(beta_mean, beta_std)#beta_vals[0]\n",
    "    #delta = np.random.normal(delta_mean, delta_std)#delta_vals[0]\n",
    "    #lmbda = np.random.normal(lmbda_mean, lmbda_std)#lmbda_vals[0]\n",
    "    \n",
    "    y_hat = sir_solution(x_updated, [delta, lmbda, beta], y0)\n",
    "    \n",
    "    y0_array[ii, :] = y_hat[:, 0]\n",
    "    y1_array[ii, :] = y_hat[:, 1]\n",
    "    y2_array[ii, :] = 1 - y_hat[:, 0] - y_hat[:, 1]"
   ]
  },
  {
   "cell_type": "code",
   "execution_count": 337,
   "metadata": {},
   "outputs": [],
   "source": [
    "y0_mean = np.mean(y0_array, axis=0)\n",
    "y0_std = 2*np.std(y0_array, axis=0)\n",
    "\n",
    "y1_mean = np.mean(y1_array, axis=0)\n",
    "y1_std = 2*np.std(y1_array, axis=0)\n",
    "\n",
    "y2_mean = np.mean(y2_array, axis=0)\n",
    "y2_std = 2*np.std(y2_array, axis=0)"
   ]
  },
  {
   "cell_type": "code",
   "execution_count": 338,
   "metadata": {},
   "outputs": [
    {
     "data": {
      "image/png": "[encoded data removed]",
      "text/plain": [
       "<Figure size 432x288 with 2 Axes>"
      ]
     },
     "metadata": {},
     "output_type": "display_data"
    }
   ],
   "source": [
    "fig, ax = plt.subplots()\n",
    "plt.fill_between(x_updated, y0_mean+y0_std, y0_mean-y0_std, alpha=0.5, color='g')\n",
    "plt.plot(x_train, y_train[:, 0], c='g', label='suseptible')\n",
    "plt.plot(x_updated, y0_mean, '--g', alpha=0.7)\n",
    "handles, labels = ax.get_legend_handles_labels()\n",
    "#plt.legend()\n",
    "ax2 = ax.twinx()\n",
    "\n",
    "plt.fill_between(x_updated, y1_mean+y1_std, y1_mean-y1_std, alpha=0.5, color='r')\n",
    "ax2.plot(x_train, y_train[:, 1], c='r', label='infected')\n",
    "ax2.plot(x_updated, y_hat[:,1], '--r', alpha=0.7)\n",
    "\n",
    "\n",
    "plt.fill_between(x_updated, y2_mean+y2_std, y2_mean-y2_std, alpha=0.5, color='b')\n",
    "ax2.plot(x_train, 1-y_train[:,0]-y_train[:, 1], c='b', label='resistant')\n",
    "ax2.plot(x_updated, 1-y_hat[:,0]-y_hat[:, 1], '--b', alpha=0.7)\n",
    "#plt.legend()\n",
    "handles1, labels2 = ax2.get_legend_handles_labels()\n",
    "\n",
    "plt.legend(handles = handles+handles1, labels=labels+labels2)\n",
    "plt.show()"
   ]
  },
  {
   "cell_type": "code",
   "execution_count": null,
   "metadata": {},
   "outputs": [],
   "source": []
  }
 ],
 "metadata": {
  "kernelspec": {
   "display_name": "Python 3",
   "language": "python",
   "name": "python3"
  },
  "language_info": {
   "codemirror_mode": {
    "name": "ipython",
    "version": 3
   },
   "file_extension": ".py",
   "mimetype": "text/x-python",
   "name": "python",
   "nbconvert_exporter": "python",
   "pygments_lexer": "ipython3",
   "version": "3.8.2"
  }
 },
 "nbformat": 4,
 "nbformat_minor": 4
}
