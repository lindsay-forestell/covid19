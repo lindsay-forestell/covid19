{
 "cells": [
  {
   "cell_type": "code",
   "execution_count": 34,
   "metadata": {},
   "outputs": [
    {
     "name": "stdout",
     "output_type": "stream",
     "text": [
      "Running on PyMC3 v3.8\n"
     ]
    }
   ],
   "source": [
    "import numpy as np\n",
    "import matplotlib.pyplot as plt\n",
    "plt.style.use('seaborn-darkgrid')\n",
    "\n",
    "from sklearn.preprocessing import StandardScaler, MinMaxScaler\n",
    "\n",
    "import pymc3 as pm\n",
    "print('Running on PyMC3 v{}'.format(pm.__version__))\n",
    "\n",
    "from bs4 import BeautifulSoup\n",
    "import requests\n",
    "import re\n",
    "\n",
    "import os\n",
    "\n",
    "from sklearn.externals import joblib "
   ]
  },
  {
   "cell_type": "code",
   "execution_count": 38,
   "metadata": {},
   "outputs": [],
   "source": [
    "def exp_model(x, y):\n",
    "    \n",
    "    x = np.asarray(x).flatten()\n",
    "    y = np.asarray(y).flatten()\n",
    "    \n",
    "    with pm.Model() as model:\n",
    "        \n",
    "         # Priors for unknown model parameters\n",
    "        alpha = pm.Normal('alpha', mu=0, sigma=10)\n",
    "        beta = pm.Normal('beta', mu=0, sigma=10)\n",
    "        sigma = pm.HalfNormal('sigma', sigma=1)\n",
    "\n",
    "        # Expected value of outcome\n",
    "        mu = alpha*pm.math.exp(beta*x)\n",
    "\n",
    "        # Likelihood (sampling distribution) of observations\n",
    "        y_obs = pm.Normal('y_obs', mu=mu, sigma=sigma, observed=y)\n",
    "        \n",
    "    return model\n",
    "    \n",
    "def sig_model(x, y):\n",
    "    \n",
    "    x = np.asarray(x).flatten()\n",
    "    y = np.asarray(y).flatten()\n",
    "    \n",
    "    with pm.Model() as model:\n",
    "        \n",
    "         # Priors for unknown model parameters\n",
    "        alpha = pm.Normal('alpha', mu=0, sigma=10)\n",
    "        beta = pm.Normal('beta', mu=0, sigma=10, shape=2)\n",
    "        sigma = pm.HalfNormal('sigma', sigma=1)\n",
    "\n",
    "        # Expected value of outcome\n",
    "        mu = alpha/(1+pm.math.exp(-(beta[0]*x+beta[1])))\n",
    "\n",
    "        # Likelihood (sampling distribution) of observations\n",
    "        y_obs = pm.Normal('y_obs', mu=mu, sigma=sigma, observed=y)\n",
    "        \n",
    "    return model\n",
    "\n",
    "def train_model(model, draws=5000, tune=5000, progressbar=True):\n",
    "    \n",
    "    with model:\n",
    "        \n",
    "         # Use Maximum A Posteriori (MAP) optimisation as initial value for MCMC\n",
    "        #start = pm.find_MAP()\n",
    "\n",
    "        # Use the No-U-Turn Sampler\n",
    "        #step = pm.NUTS()\n",
    "        \n",
    "        trace = pm.sample(\n",
    "            draws=draws,# step=step, start=start,\n",
    "            tune=tune,\n",
    "            random_seed=42, progressbar=True#, cores=4\n",
    "        )\n",
    "        \n",
    "    return trace\n",
    "        \n",
    "def predict_model(model, trace, samples):\n",
    "    \n",
    "    with model:\n",
    "        \n",
    "        y_hat = pm.sample_posterior_predictive(trace, samples=samples)\n",
    "        \n",
    "    return y_hat['y_obs']\n",
    "\n",
    "# arbitrary country\n",
    "def get_country(country, start_date='', end_date='', min_cases=10):\n",
    "\n",
    "    url = 'https://www.worldometers.info/coronavirus/country/'+country.lower()+'/'\n",
    "    response = requests.get(url)\n",
    "    soup = BeautifulSoup(response.text, 'lxml')\n",
    "    test= soup.find('script', text=re.compile('Total Coronavirus Cases'))\n",
    "    save_stuff = False\n",
    "    for line in test.get_text().split('\\n'):\n",
    "        if 'text' in line:\n",
    "            if 'Linear Scale' in line or 'Total Coronavirus Cases' in line:\n",
    "                save_stuff = True\n",
    "            else:\n",
    "                save_stuff = False\n",
    "        if 'categories' in line:\n",
    "            if save_stuff:\n",
    "                categories = line.split(',')\n",
    "                categories[0] = categories[0][25:]\n",
    "                categories = categories[:-1]\n",
    "                categories[-1] = categories[-1].strip('}').strip(' ').strip(']')\n",
    "                categories = [x.strip('\"') for x in categories]\n",
    "        if 'data' in line:\n",
    "            if save_stuff:\n",
    "                data = line.split(',')\n",
    "                data[0] = data[0][19:]\n",
    "                data = data[:-1]\n",
    "                data[-1] = data[-1].strip(']').strip('}').strip(' ').strip(']')\n",
    "                data = [int(x) for x in data]\n",
    "                \n",
    "    start = np.where(np.array(categories)==start_date)[0]\n",
    "    if len(start)==0:\n",
    "        start = 0\n",
    "    else:\n",
    "        start = start[0]\n",
    "        \n",
    "    end = np.where(np.array(categories)==end_date)[0]\n",
    "    if len(end)==0:\n",
    "        end = len(categories)-1\n",
    "    else:\n",
    "        end = end[0]\n",
    "    \n",
    "    dates = categories[start:end+1]\n",
    "    data = data[start:end+1]\n",
    "    \n",
    "    if max(data)<min_cases:\n",
    "        print('Warning, {:d} cases has not occured in this date range.')\n",
    "    else:\n",
    "        min_start = np.where(np.array(data)>=min_cases)[0][0]\n",
    "        data = data[min_start:]\n",
    "        dates = dates[min_start:]\n",
    "    \n",
    "    return dates, np.arange(1, len(data)+1), np.array(data)\n",
    "\n",
    "def scale_data(x, y):\n",
    "    x_train = np.array(x[:-3])\n",
    "    y_train = np.array(y[:-3])\n",
    "\n",
    "    x_test = np.array(x[-3:])\n",
    "    y_test = np.array(y[-3:])\n",
    "\n",
    "    # rescale y\n",
    "    scaley = MinMaxScaler(feature_range = (0.1, 0.8))\n",
    "    y_scale = scaley.fit_transform(y_train.reshape(-1,1)).flatten()\n",
    "\n",
    "    # rescale x?\n",
    "    scalex = MinMaxScaler()\n",
    "    x_scale = scalex.fit_transform(x_train.reshape(-1,1)).flatten()\n",
    "    \n",
    "    return x_train, y_train, x_scale, y_scale, x_test, y_test, scaley, scalex"
   ]
  },
  {
   "cell_type": "code",
   "execution_count": 7,
   "metadata": {},
   "outputs": [
    {
     "name": "stderr",
     "output_type": "stream",
     "text": [
      "C:\\Users\\linds\\Anaconda3\\envs\\datascience\\lib\\site-packages\\sklearn\\utils\\validation.py:595: DataConversionWarning: Data with input dtype int32 was converted to float64 by MinMaxScaler.\n",
      "  warnings.warn(msg, DataConversionWarning)\n",
      "C:\\Users\\linds\\Anaconda3\\envs\\datascience\\lib\\site-packages\\sklearn\\utils\\validation.py:595: DataConversionWarning: Data with input dtype int32 was converted to float64 by MinMaxScaler.\n",
      "  warnings.warn(msg, DataConversionWarning)\n"
     ]
    }
   ],
   "source": [
    "country = 'Italy'\n",
    "min_cases=100\n",
    "dates, x, y = get_country(country, min_cases=min_cases)#, 'Mar 02', 'Mar 17')\n",
    "\n",
    "x_train, y_train, x_scale, y_scale, x_test, y_test, scaley, scalex = scale_data(x, y)"
   ]
  },
  {
   "cell_type": "code",
   "execution_count": 9,
   "metadata": {},
   "outputs": [
    {
     "name": "stdout",
     "output_type": "stream",
     "text": [
      "(1, 157)\n",
      "(2, 229)\n",
      "(3, 323)\n",
      "(4, 470)\n",
      "(5, 655)\n",
      "(6, 889)\n",
      "(7, 1128)\n",
      "(8, 1701)\n",
      "(9, 2036)\n",
      "(10, 2502)\n",
      "(11, 3089)\n",
      "(12, 3858)\n",
      "(13, 4636)\n",
      "(14, 5883)\n",
      "(15, 7375)\n",
      "(16, 9172)\n",
      "(17, 10149)\n",
      "(18, 12462)\n",
      "(19, 15113)\n",
      "(20, 17660)\n",
      "(21, 21157)\n",
      "(22, 24747)\n",
      "(23, 27980)\n",
      "(24, 31506)\n",
      "(25, 35713)\n"
     ]
    }
   ],
   "source": [
    "for item in zip(x_train, y_train):\n",
    "    print(item)"
   ]
  },
  {
   "cell_type": "code",
   "execution_count": 12,
   "metadata": {},
   "outputs": [
    {
     "data": {
      "image/png": "[encoded data removed]",
      "text/plain": [
       "<Figure size 432x288 with 1 Axes>"
      ]
     },
     "metadata": {
      "needs_background": "light"
     },
     "output_type": "display_data"
    }
   ],
   "source": [
    "plt.scatter(x_scale, y_scale)\n",
    "plt.xticks(x_scale, dates, rotation=90)\n",
    "plt.show()"
   ]
  },
  {
   "cell_type": "code",
   "execution_count": 13,
   "metadata": {},
   "outputs": [
    {
     "name": "stderr",
     "output_type": "stream",
     "text": [
      "Auto-assigning NUTS sampler...\n",
      "Initializing NUTS using jitter+adapt_diag...\n",
      "Multiprocess sampling (4 chains in 4 jobs)\n",
      "NUTS: [sigma, beta, alpha]\n",
      "Sampling 4 chains, 18 divergences: 100%|██████████████████████████████████████████████████████████████████████████| 40000/40000 [00:33<00:00, 1192.69draws/s]\n",
      "There was 1 divergence after tuning. Increase `target_accept` or reparameterize.\n",
      "There were 15 divergences after tuning. Increase `target_accept` or reparameterize.\n",
      "The acceptance probability does not match the target. It is 0.6672753283304383, but should be close to 0.8. Try to increase the number of tuning steps.\n",
      "There were 2 divergences after tuning. Increase `target_accept` or reparameterize.\n",
      "Auto-assigning NUTS sampler...\n",
      "Initializing NUTS using jitter+adapt_diag...\n",
      "Multiprocess sampling (4 chains in 4 jobs)\n",
      "NUTS: [sigma, beta, alpha]\n",
      "Sampling 4 chains, 892 divergences: 100%|███████████████████████████████████████████████████████████████████████████| 40000/40000 [02:50<00:00, 79.94draws/s]\n",
      "There were 40 divergences after tuning. Increase `target_accept` or reparameterize.\n",
      "There were 421 divergences after tuning. Increase `target_accept` or reparameterize.\n",
      "The acceptance probability does not match the target. It is 0.6182802297932687, but should be close to 0.8. Try to increase the number of tuning steps.\n",
      "There were 148 divergences after tuning. Increase `target_accept` or reparameterize.\n",
      "There were 283 divergences after tuning. Increase `target_accept` or reparameterize.\n",
      "The acceptance probability does not match the target. It is 0.7000488552807832, but should be close to 0.8. Try to increase the number of tuning steps.\n",
      "The estimated number of effective samples is smaller than 200 for some parameters.\n"
     ]
    }
   ],
   "source": [
    "exp = exp_model(x_scale, y_scale)\n",
    "sig = sig_model(x_scale, y_scale)\n",
    "exp_trace = train_model(exp, draws=5000, tune=5000)\n",
    "sig_trace = train_model(sig, draws=5000, tune=5000)"
   ]
  },
  {
   "cell_type": "code",
   "execution_count": 19,
   "metadata": {},
   "outputs": [
    {
     "name": "stderr",
     "output_type": "stream",
     "text": [
      "C:\\Users\\linds\\Anaconda3\\envs\\datascience\\lib\\site-packages\\pymc3\\sampling.py:1247: UserWarning: samples parameter is smaller than nchains times ndraws, some draws and/or chains may not be represented in the returned posterior predictive sample\n",
      "  \"samples parameter is smaller than nchains times ndraws, some draws \"\n",
      "100%|██████████████████████████████████████████████████████████████████████████████████████████████████████████████████| 1000/1000 [00:00<00:00, 1047.97it/s]\n",
      "100%|███████████████████████████████████████████████████████████████████████████████████████████████████████████████████| 1000/1000 [00:01<00:00, 914.02it/s]\n"
     ]
    }
   ],
   "source": [
    "last = len(x)\n",
    "num_days = 7\n",
    "extend = np.arange(last+1, last+num_days+1)\n",
    "x_updated = np.append(x, extend)\n",
    "x_updated_scaled = scalex.transform(x_updated.reshape(-1, 1)).flatten()\n",
    "y_updated = np.empty(x_updated.shape)\n",
    "\n",
    "exp_updated = exp_model(x_updated_scaled, y_updated)\n",
    "sig_updated = sig_model(x_updated_scaled, y_updated)\n",
    "\n",
    "y_exp = predict_model(exp_updated, exp_trace, 1000)\n",
    "y_sig = predict_model(sig_updated, sig_trace, 1000)"
   ]
  },
  {
   "cell_type": "code",
   "execution_count": 22,
   "metadata": {},
   "outputs": [],
   "source": [
    "y_exp_avg = np.mean(y_exp, axis=0).reshape(-1,1)\n",
    "y_exp_std = 2*np.std(y_exp, axis=0).reshape(-1,1)\n",
    "\n",
    "y_sig_avg = np.mean(y_sig, axis=0).reshape(-1,1)\n",
    "y_sig_std = 2*np.std(y_sig, axis=0).reshape(-1,1)\n",
    "\n",
    "y_exp_high = scaley.inverse_transform(y_exp_avg+y_exp_std).flatten()\n",
    "y_exp_low = scaley.inverse_transform(y_exp_avg-y_exp_std).flatten()\n",
    "\n",
    "y_sig_high = scaley.inverse_transform(y_sig_avg+y_sig_std).flatten()\n",
    "y_sig_low = scaley.inverse_transform(y_sig_avg-y_sig_std).flatten()\n"
   ]
  },
  {
   "cell_type": "code",
   "execution_count": 36,
   "metadata": {},
   "outputs": [
    {
     "data": {
      "image/png": "[encoded data removed]",
      "text/plain": [
       "<Figure size 432x288 with 1 Axes>"
      ]
     },
     "metadata": {},
     "output_type": "display_data"
    }
   ],
   "source": [
    "plt.fill_between(x_updated, y_exp_high, y_exp_low, alpha = 0.5, label='Exponential')\n",
    "plt.fill_between(x_updated, y_sig_high, y_sig_low, alpha = 0.5, label='Sigmoid')\n",
    "plt.scatter(x_train, y_train, label='Training Data')\n",
    "plt.scatter(x_test, y_test, label='Last 3 Days')\n",
    "plt.vlines(last+1, -0.5, max(y)+1*max(y), label='Most Recent Unknown')\n",
    "plt.ylim([-0.5, max(y)+1*max(y)])\n",
    "plt.legend(loc='upper left')\n",
    "plt.title(country.upper())\n",
    "plt.show()\n"
   ]
  },
  {
   "cell_type": "code",
   "execution_count": 24,
   "metadata": {},
   "outputs": [
    {
     "data": {
      "text/plain": [
       "'traces'"
      ]
     },
     "execution_count": 24,
     "metadata": {},
     "output_type": "execute_result"
    }
   ],
   "source": [
    "\n",
    "pm.save_trace(exp_trace, directory = 'traces/'+country, overwrite=True)"
   ]
  },
  {
   "cell_type": "code",
   "execution_count": 33,
   "metadata": {},
   "outputs": [
    {
     "name": "stdout",
     "output_type": "stream",
     "text": [
      "Directory for Italy does not exist. Creating now.\n"
     ]
    },
    {
     "data": {
      "text/plain": [
       "'traces\\\\Italy\\\\sig'"
      ]
     },
     "execution_count": 33,
     "metadata": {},
     "output_type": "execute_result"
    }
   ],
   "source": [
    "tr_path = os.path.join('traces', country)\n",
    "if not os.path.isdir(tr_path):\n",
    "    print('Directory for {:s} does not exist. Creating now.'.format(country.title()))\n",
    "    os.mkdir(tr_path)\n",
    "    os.mkdir(os.path.join(tr_path, 'exp'))\n",
    "    os.mkdir(os.path.join(tr_path, 'sig'))\n",
    "else:\n",
    "    print('Directory for {:s} already exists. Will overwrite current traces.'.format(country.title()))\n",
    "    \n",
    "pm.save_trace(exp_trace, directory = os.path.join(tr_path, 'exp'), overwrite=True)\n",
    "pm.save_trace(sig_trace, directory = os.path.join(tr_path, 'sig'), overwrite=True)"
   ]
  },
  {
   "cell_type": "code",
   "execution_count": 35,
   "metadata": {},
   "outputs": [
    {
     "data": {
      "text/plain": [
       "['traces\\\\Italy\\\\scaley.pkl']"
      ]
     },
     "execution_count": 35,
     "metadata": {},
     "output_type": "execute_result"
    }
   ],
   "source": [
    "# save scalers also\n",
    "joblib.dump(scalex, os.path.join(tr_path,'scalex.pkl'))\n",
    "joblib.dump(scaley, os.path.join(tr_path, 'scaley.pkl'))"
   ]
  },
  {
   "cell_type": "code",
   "execution_count": 43,
   "metadata": {},
   "outputs": [
    {
     "name": "stdout",
     "output_type": "stream",
     "text": [
      "ITALY\n",
      "-----\n"
     ]
    },
    {
     "name": "stderr",
     "output_type": "stream",
     "text": [
      "C:\\Users\\linds\\Anaconda3\\envs\\datascience\\lib\\site-packages\\sklearn\\utils\\validation.py:595: DataConversionWarning: Data with input dtype int32 was converted to float64 by MinMaxScaler.\n",
      "  warnings.warn(msg, DataConversionWarning)\n",
      "C:\\Users\\linds\\Anaconda3\\envs\\datascience\\lib\\site-packages\\sklearn\\utils\\validation.py:595: DataConversionWarning: Data with input dtype int32 was converted to float64 by MinMaxScaler.\n",
      "  warnings.warn(msg, DataConversionWarning)\n",
      "Auto-assigning NUTS sampler...\n",
      "Initializing NUTS using jitter+adapt_diag...\n",
      "Multiprocess sampling (4 chains in 4 jobs)\n",
      "NUTS: [sigma, beta, alpha]\n",
      "Sampling 4 chains, 18 divergences: 100%|██████████████████████████████████████████████████████████████████████████| 40000/40000 [00:33<00:00, 1193.17draws/s]\n",
      "There was 1 divergence after tuning. Increase `target_accept` or reparameterize.\n",
      "There were 15 divergences after tuning. Increase `target_accept` or reparameterize.\n",
      "The acceptance probability does not match the target. It is 0.6672753283304383, but should be close to 0.8. Try to increase the number of tuning steps.\n",
      "There were 2 divergences after tuning. Increase `target_accept` or reparameterize.\n",
      "Auto-assigning NUTS sampler...\n",
      "Initializing NUTS using jitter+adapt_diag...\n",
      "Multiprocess sampling (4 chains in 4 jobs)\n",
      "NUTS: [sigma, beta, alpha]\n",
      "Sampling 4 chains, 892 divergences: 100%|██████████████████████████████████████████████████████████████████████████| 40000/40000 [02:43<00:00, 244.27draws/s]\n",
      "There were 40 divergences after tuning. Increase `target_accept` or reparameterize.\n",
      "There were 421 divergences after tuning. Increase `target_accept` or reparameterize.\n",
      "The acceptance probability does not match the target. It is 0.6182802297932687, but should be close to 0.8. Try to increase the number of tuning steps.\n",
      "There were 148 divergences after tuning. Increase `target_accept` or reparameterize.\n",
      "There were 283 divergences after tuning. Increase `target_accept` or reparameterize.\n",
      "The acceptance probability does not match the target. It is 0.7000488552807832, but should be close to 0.8. Try to increase the number of tuning steps.\n",
      "The estimated number of effective samples is smaller than 200 for some parameters.\n"
     ]
    },
    {
     "name": "stdout",
     "output_type": "stream",
     "text": [
      "Directory for Italy already exists. Will overwrite current traces.\n",
      "GERMANY\n",
      "-------\n"
     ]
    },
    {
     "name": "stderr",
     "output_type": "stream",
     "text": [
      "C:\\Users\\linds\\Anaconda3\\envs\\datascience\\lib\\site-packages\\sklearn\\utils\\validation.py:595: DataConversionWarning: Data with input dtype int32 was converted to float64 by MinMaxScaler.\n",
      "  warnings.warn(msg, DataConversionWarning)\n",
      "C:\\Users\\linds\\Anaconda3\\envs\\datascience\\lib\\site-packages\\sklearn\\utils\\validation.py:595: DataConversionWarning: Data with input dtype int32 was converted to float64 by MinMaxScaler.\n",
      "  warnings.warn(msg, DataConversionWarning)\n",
      "Auto-assigning NUTS sampler...\n",
      "Initializing NUTS using jitter+adapt_diag...\n",
      "Multiprocess sampling (4 chains in 4 jobs)\n",
      "NUTS: [sigma, beta, alpha]\n",
      "Sampling 4 chains, 8 divergences: 100%|███████████████████████████████████████████████████████████████████████████| 40000/40000 [00:36<00:00, 1086.07draws/s]\n",
      "The acceptance probability does not match the target. It is 0.912908208018798, but should be close to 0.8. Try to increase the number of tuning steps.\n",
      "There was 1 divergence after tuning. Increase `target_accept` or reparameterize.\n",
      "There were 6 divergences after tuning. Increase `target_accept` or reparameterize.\n",
      "There was 1 divergence after tuning. Increase `target_accept` or reparameterize.\n",
      "Auto-assigning NUTS sampler...\n",
      "Initializing NUTS using jitter+adapt_diag...\n",
      "Multiprocess sampling (4 chains in 4 jobs)\n",
      "NUTS: [sigma, beta, alpha]\n",
      "Sampling 4 chains, 1,518 divergences: 100%|████████████████████████████████████████████████████████████████████████| 40000/40000 [02:04<00:00, 321.82draws/s]\n",
      "There were 406 divergences after tuning. Increase `target_accept` or reparameterize.\n",
      "The acceptance probability does not match the target. It is 0.5677184496533163, but should be close to 0.8. Try to increase the number of tuning steps.\n",
      "There were 139 divergences after tuning. Increase `target_accept` or reparameterize.\n",
      "There were 88 divergences after tuning. Increase `target_accept` or reparameterize.\n",
      "There were 885 divergences after tuning. Increase `target_accept` or reparameterize.\n",
      "The acceptance probability does not match the target. It is 0.5306628126163732, but should be close to 0.8. Try to increase the number of tuning steps.\n",
      "The rhat statistic is larger than 1.05 for some parameters. This indicates slight problems during sampling.\n",
      "The estimated number of effective samples is smaller than 200 for some parameters.\n"
     ]
    },
    {
     "name": "stdout",
     "output_type": "stream",
     "text": [
      "Directory for Germany does not exist. Creating now.\n",
      "CHINA\n",
      "-----\n"
     ]
    },
    {
     "name": "stderr",
     "output_type": "stream",
     "text": [
      "C:\\Users\\linds\\Anaconda3\\envs\\datascience\\lib\\site-packages\\sklearn\\utils\\validation.py:595: DataConversionWarning: Data with input dtype int32 was converted to float64 by MinMaxScaler.\n",
      "  warnings.warn(msg, DataConversionWarning)\n",
      "C:\\Users\\linds\\Anaconda3\\envs\\datascience\\lib\\site-packages\\sklearn\\utils\\validation.py:595: DataConversionWarning: Data with input dtype int32 was converted to float64 by MinMaxScaler.\n",
      "  warnings.warn(msg, DataConversionWarning)\n",
      "Auto-assigning NUTS sampler...\n",
      "Initializing NUTS using jitter+adapt_diag...\n",
      "Multiprocess sampling (4 chains in 4 jobs)\n",
      "NUTS: [sigma, beta, alpha]\n",
      "Sampling 4 chains, 0 divergences: 100%|███████████████████████████████████████████████████████████████████████████| 40000/40000 [00:27<00:00, 1430.73draws/s]\n",
      "The acceptance probability does not match the target. It is 0.8813338304586289, but should be close to 0.8. Try to increase the number of tuning steps.\n",
      "Auto-assigning NUTS sampler...\n",
      "Initializing NUTS using jitter+adapt_diag...\n",
      "Multiprocess sampling (4 chains in 4 jobs)\n",
      "NUTS: [sigma, beta, alpha]\n",
      "Sampling 4 chains, 0 divergences: 100%|███████████████████████████████████████████████████████████████████████████| 40000/40000 [00:36<00:00, 1094.03draws/s]\n",
      "The acceptance probability does not match the target. It is 0.8994973703620742, but should be close to 0.8. Try to increase the number of tuning steps.\n"
     ]
    },
    {
     "name": "stdout",
     "output_type": "stream",
     "text": [
      "Directory for China does not exist. Creating now.\n",
      "SPAIN\n",
      "-----\n"
     ]
    },
    {
     "name": "stderr",
     "output_type": "stream",
     "text": [
      "C:\\Users\\linds\\Anaconda3\\envs\\datascience\\lib\\site-packages\\sklearn\\utils\\validation.py:595: DataConversionWarning: Data with input dtype int32 was converted to float64 by MinMaxScaler.\n",
      "  warnings.warn(msg, DataConversionWarning)\n",
      "C:\\Users\\linds\\Anaconda3\\envs\\datascience\\lib\\site-packages\\sklearn\\utils\\validation.py:595: DataConversionWarning: Data with input dtype int32 was converted to float64 by MinMaxScaler.\n",
      "  warnings.warn(msg, DataConversionWarning)\n",
      "Auto-assigning NUTS sampler...\n",
      "Initializing NUTS using jitter+adapt_diag...\n",
      "Multiprocess sampling (4 chains in 4 jobs)\n",
      "NUTS: [sigma, beta, alpha]\n",
      "Sampling 4 chains, 23 divergences: 100%|██████████████████████████████████████████████████████████████████████████| 40000/40000 [00:39<00:00, 1008.63draws/s]\n",
      "There were 8 divergences after tuning. Increase `target_accept` or reparameterize.\n",
      "There were 6 divergences after tuning. Increase `target_accept` or reparameterize.\n",
      "There were 9 divergences after tuning. Increase `target_accept` or reparameterize.\n",
      "The number of effective samples is smaller than 25% for some parameters.\n",
      "Auto-assigning NUTS sampler...\n",
      "Initializing NUTS using jitter+adapt_diag...\n",
      "Multiprocess sampling (4 chains in 4 jobs)\n",
      "NUTS: [sigma, beta, alpha]\n",
      "Sampling 4 chains, 876 divergences: 100%|██████████████████████████████████████████████████████████████████████████| 40000/40000 [02:25<00:00, 108.31draws/s]\n",
      "There were 309 divergences after tuning. Increase `target_accept` or reparameterize.\n",
      "The acceptance probability does not match the target. It is 0.6639209419112689, but should be close to 0.8. Try to increase the number of tuning steps.\n",
      "There were 188 divergences after tuning. Increase `target_accept` or reparameterize.\n",
      "The acceptance probability does not match the target. It is 0.7149142788419196, but should be close to 0.8. Try to increase the number of tuning steps.\n",
      "There were 145 divergences after tuning. Increase `target_accept` or reparameterize.\n",
      "There were 234 divergences after tuning. Increase `target_accept` or reparameterize.\n",
      "The number of effective samples is smaller than 10% for some parameters.\n"
     ]
    },
    {
     "name": "stdout",
     "output_type": "stream",
     "text": [
      "Directory for Spain does not exist. Creating now.\n",
      "CANADA\n",
      "------\n"
     ]
    },
    {
     "name": "stderr",
     "output_type": "stream",
     "text": [
      "C:\\Users\\linds\\Anaconda3\\envs\\datascience\\lib\\site-packages\\sklearn\\utils\\validation.py:595: DataConversionWarning: Data with input dtype int32 was converted to float64 by MinMaxScaler.\n",
      "  warnings.warn(msg, DataConversionWarning)\n",
      "C:\\Users\\linds\\Anaconda3\\envs\\datascience\\lib\\site-packages\\sklearn\\utils\\validation.py:595: DataConversionWarning: Data with input dtype int32 was converted to float64 by MinMaxScaler.\n",
      "  warnings.warn(msg, DataConversionWarning)\n",
      "Auto-assigning NUTS sampler...\n",
      "Initializing NUTS using jitter+adapt_diag...\n",
      "Multiprocess sampling (4 chains in 4 jobs)\n",
      "NUTS: [sigma, beta, alpha]\n",
      "Sampling 4 chains, 132 divergences: 100%|█████████████████████████████████████████████████████████████████████████| 40000/40000 [00:35<00:00, 1125.85draws/s]\n",
      "There were 26 divergences after tuning. Increase `target_accept` or reparameterize.\n",
      "There were 66 divergences after tuning. Increase `target_accept` or reparameterize.\n",
      "The acceptance probability does not match the target. It is 0.683472448879066, but should be close to 0.8. Try to increase the number of tuning steps.\n",
      "There were 36 divergences after tuning. Increase `target_accept` or reparameterize.\n",
      "There were 4 divergences after tuning. Increase `target_accept` or reparameterize.\n",
      "The number of effective samples is smaller than 25% for some parameters.\n",
      "Auto-assigning NUTS sampler...\n",
      "Initializing NUTS using jitter+adapt_diag...\n",
      "Multiprocess sampling (4 chains in 4 jobs)\n",
      "NUTS: [sigma, beta, alpha]\n",
      "Sampling 4 chains, 3,788 divergences: 100%|████████████████████████████████████████████████████████████████████████| 40000/40000 [03:07<00:00, 212.98draws/s]\n",
      "There were 503 divergences after tuning. Increase `target_accept` or reparameterize.\n",
      "The acceptance probability does not match the target. It is 0.6106894823111879, but should be close to 0.8. Try to increase the number of tuning steps.\n",
      "There were 357 divergences after tuning. Increase `target_accept` or reparameterize.\n",
      "The acceptance probability does not match the target. It is 0.7039448046142702, but should be close to 0.8. Try to increase the number of tuning steps.\n",
      "There were 2379 divergences after tuning. Increase `target_accept` or reparameterize.\n",
      "The acceptance probability does not match the target. It is 0.0654961069865071, but should be close to 0.8. Try to increase the number of tuning steps.\n",
      "There were 549 divergences after tuning. Increase `target_accept` or reparameterize.\n",
      "The acceptance probability does not match the target. It is 0.6130891375961637, but should be close to 0.8. Try to increase the number of tuning steps.\n",
      "The rhat statistic is larger than 1.2 for some parameters.\n",
      "The estimated number of effective samples is smaller than 200 for some parameters.\n"
     ]
    },
    {
     "name": "stdout",
     "output_type": "stream",
     "text": [
      "Directory for Canada does not exist. Creating now.\n",
      "US\n",
      "--\n"
     ]
    },
    {
     "name": "stderr",
     "output_type": "stream",
     "text": [
      "C:\\Users\\linds\\Anaconda3\\envs\\datascience\\lib\\site-packages\\sklearn\\utils\\validation.py:595: DataConversionWarning: Data with input dtype int32 was converted to float64 by MinMaxScaler.\n",
      "  warnings.warn(msg, DataConversionWarning)\n",
      "C:\\Users\\linds\\Anaconda3\\envs\\datascience\\lib\\site-packages\\sklearn\\utils\\validation.py:595: DataConversionWarning: Data with input dtype int32 was converted to float64 by MinMaxScaler.\n",
      "  warnings.warn(msg, DataConversionWarning)\n",
      "Auto-assigning NUTS sampler...\n",
      "Initializing NUTS using jitter+adapt_diag...\n",
      "Multiprocess sampling (4 chains in 4 jobs)\n",
      "NUTS: [sigma, beta, alpha]\n",
      "Sampling 4 chains, 14 divergences: 100%|███████████████████████████████████████████████████████████████████████████| 40000/40000 [00:42<00:00, 939.09draws/s]\n",
      "There were 8 divergences after tuning. Increase `target_accept` or reparameterize.\n",
      "The acceptance probability does not match the target. It is 0.8807133770560717, but should be close to 0.8. Try to increase the number of tuning steps.\n",
      "The acceptance probability does not match the target. It is 0.9227545320313552, but should be close to 0.8. Try to increase the number of tuning steps.\n",
      "There were 6 divergences after tuning. Increase `target_accept` or reparameterize.\n",
      "The number of effective samples is smaller than 25% for some parameters.\n",
      "Auto-assigning NUTS sampler...\n",
      "Initializing NUTS using jitter+adapt_diag...\n",
      "Multiprocess sampling (4 chains in 4 jobs)\n",
      "NUTS: [sigma, beta, alpha]\n",
      "Sampling 4 chains, 1,647 divergences: 100%|████████████████████████████████████████████████████████████████████████| 40000/40000 [01:45<00:00, 380.45draws/s]\n",
      "There were 951 divergences after tuning. Increase `target_accept` or reparameterize.\n",
      "The acceptance probability does not match the target. It is 0.5384697359758789, but should be close to 0.8. Try to increase the number of tuning steps.\n",
      "There were 311 divergences after tuning. Increase `target_accept` or reparameterize.\n",
      "The acceptance probability does not match the target. It is 0.7003946507058539, but should be close to 0.8. Try to increase the number of tuning steps.\n",
      "There were 209 divergences after tuning. Increase `target_accept` or reparameterize.\n",
      "The acceptance probability does not match the target. It is 0.7102337188627815, but should be close to 0.8. Try to increase the number of tuning steps.\n",
      "There were 176 divergences after tuning. Increase `target_accept` or reparameterize.\n",
      "The rhat statistic is larger than 1.05 for some parameters. This indicates slight problems during sampling.\n",
      "The estimated number of effective samples is smaller than 200 for some parameters.\n"
     ]
    },
    {
     "name": "stdout",
     "output_type": "stream",
     "text": [
      "Directory for Us does not exist. Creating now.\n"
     ]
    }
   ],
   "source": [
    "# loop over multiple countries\n",
    "country_list = ['Italy', 'Germany', 'China', 'Spain', 'Canada', 'US']\n",
    "min_cases = 100\n",
    "for country in country_list:\n",
    "    \n",
    "    print(country.upper())\n",
    "    print('-'*len(country))\n",
    "\n",
    "    # get data from website\n",
    "    dates, x, y = get_country(country, min_cases=min_cases)#, 'Mar 02', 'Mar 17')\n",
    "    \n",
    "    # rescale\n",
    "    x_train, y_train, x_scale, y_scale, x_test, y_test, scaley, scalex = scale_data(x, y)\n",
    "    \n",
    "    # produce fits\n",
    "    exp = exp_model(x_scale, y_scale)\n",
    "    sig = sig_model(x_scale, y_scale)\n",
    "    exp_trace = train_model(exp, draws=5000, tune=5000)\n",
    "    sig_trace = train_model(sig, draws=5000, tune=5000)\n",
    "    \n",
    "    # save to file\n",
    "    tr_path = os.path.join('traces', country.lower())\n",
    "    if not os.path.isdir(tr_path):\n",
    "        print('Directory for {:s} does not exist. Creating now.'.format(country.title()))\n",
    "        os.mkdir(tr_path)\n",
    "        os.mkdir(os.path.join(tr_path, 'exp'))\n",
    "        os.mkdir(os.path.join(tr_path, 'sig'))\n",
    "    else:\n",
    "        print('Directory for {:s} already exists. Will overwrite current traces.'.format(country.title()))\n",
    "\n",
    "    pm.save_trace(exp_trace, directory = os.path.join(tr_path, 'exp'), overwrite=True)\n",
    "    pm.save_trace(sig_trace, directory = os.path.join(tr_path, 'sig'), overwrite=True)\n",
    "    \n",
    "    # save scalers also\n",
    "    joblib.dump(scalex, os.path.join(tr_path,'scalex.pkl'))\n",
    "    joblib.dump(scaley, os.path.join(tr_path, 'scaley.pkl'))\n",
    "    \n",
    "    # also save fitting data so comparing apples to apples\n",
    "    joblib.dump(dates, os.path.join(tr_path,'dates.pkl'))\n",
    "    joblib.dump(x, os.path.join(tr_path,'x.pkl'))\n",
    "    joblib.dump(y, os.path.join(tr_path,'y.pkl'))\n",
    "    "
   ]
  },
  {
   "cell_type": "code",
   "execution_count": null,
   "metadata": {},
   "outputs": [],
   "source": []
  }
 ],
 "metadata": {
  "kernelspec": {
   "display_name": "Python 3",
   "language": "python",
   "name": "python3"
  },
  "language_info": {
   "codemirror_mode": {
    "name": "ipython",
    "version": 3
   },
   "file_extension": ".py",
   "mimetype": "text/x-python",
   "name": "python",
   "nbconvert_exporter": "python",
   "pygments_lexer": "ipython3",
   "version": "3.8.2"
  }
 },
 "nbformat": 4,
 "nbformat_minor": 4
}
