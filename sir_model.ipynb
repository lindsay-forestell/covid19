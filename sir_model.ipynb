{
 "cells": [
  {
   "cell_type": "code",
   "execution_count": 1,
   "metadata": {},
   "outputs": [
    {
     "name": "stderr",
     "output_type": "stream",
     "text": [
      "WARNING (theano.configdefaults): g++ not available, if using conda: `conda install m2w64-toolchain`\n",
      "C:\\Users\\linds\\Anaconda3\\envs\\pymc3\\lib\\site-packages\\theano\\configdefaults.py:560: UserWarning: DeprecationWarning: there is no c++ compiler.This is deprecated and with Theano 0.11 a c++ compiler will be mandatory\n",
      "  warnings.warn(\"DeprecationWarning: there is no c++ compiler.\"\n",
      "WARNING (theano.configdefaults): g++ not detected ! Theano will be unable to execute optimized C-implementations (for both CPU and GPU) and will default to Python implementations. Performance will be severely degraded. To remove this warning, set Theano flags cxx to an empty string.\n",
      "WARNING (theano.tensor.blas): Using NumPy C-API based implementation for BLAS functions.\n"
     ]
    },
    {
     "name": "stdout",
     "output_type": "stream",
     "text": [
      "Running on PyMC3 v3.8\n"
     ]
    },
    {
     "name": "stderr",
     "output_type": "stream",
     "text": [
      "C:\\Users\\linds\\Anaconda3\\envs\\pymc3\\lib\\site-packages\\sklearn\\externals\\joblib\\__init__.py:15: FutureWarning: sklearn.externals.joblib is deprecated in 0.21 and will be removed in 0.23. Please import this functionality directly from joblib, which can be installed with: pip install joblib. If this warning is raised when loading pickled models, you may need to re-serialize those models with scikit-learn 0.21+.\n",
      "  warnings.warn(msg, category=FutureWarning)\n"
     ]
    }
   ],
   "source": [
    "import numpy as np\n",
    "import matplotlib.pyplot as plt\n",
    "plt.style.use('seaborn-darkgrid')\n",
    "\n",
    "from sklearn.preprocessing import StandardScaler, MinMaxScaler\n",
    "\n",
    "import pymc3 as pm\n",
    "print('Running on PyMC3 v{}'.format(pm.__version__))\n",
    "\n",
    "from bs4 import BeautifulSoup\n",
    "import requests\n",
    "import re\n",
    "\n",
    "import os\n",
    "\n",
    "from sklearn.externals import joblib \n",
    "\n",
    "import pandas as pd"
   ]
  },
  {
   "cell_type": "code",
   "execution_count": 2,
   "metadata": {},
   "outputs": [],
   "source": [
    "country = 'Canada'\n",
    "file = os.path.join('csv_out',country+'.csv')\n",
    "country_df = pd.read_csv(file)\n",
    "country_df\n",
    "\n",
    "def get_country_sir(country, start_date='', end_date='', min_cases=10):\n",
    "    \n",
    "    # update for any country\n",
    "    # italy\n",
    "    population = 60e6\n",
    "    \n",
    "    country = country.title().replace(' ', '_')\n",
    "    file = os.path.join('csv_out',country+'.csv')\n",
    "    country_df = pd.read_csv(file)\n",
    "    \n",
    "    start = country_df[country_df.Date == start_date].index\n",
    "    if len(start)==0:\n",
    "        start = 0\n",
    "    else:\n",
    "        start = start[0]\n",
    "        \n",
    "    end = country_df[country_df.Date == end_date].index\n",
    "    if len(end)==0:\n",
    "        end = country_df.index[-1]\n",
    "    else:\n",
    "        end = end[0]\n",
    "        \n",
    "    dates = country_df.loc[start:end + 1, 'Date'].values\n",
    "    data = country_df.loc[start:end + 1, 'Confirmed'].values\n",
    "    deaths = country_df.loc[start:end + 1, 'Deaths'].values\n",
    "    recovered = country_df.loc[start:end+1, 'Recovered'].values\n",
    "\n",
    "    if max(data) < min_cases:\n",
    "        print('Warning, {:d} cases has not occured in this date range.')\n",
    "    else:\n",
    "        min_start = np.where(np.array(data) >= min_cases)[0][0]\n",
    "        data = data[min_start:]\n",
    "        dates = dates[min_start:]\n",
    "        deaths = deaths[min_start:]\n",
    "        recovered = recovered[min_start:]\n",
    "        \n",
    "    # infected = total cases - deaths - recoveries\n",
    "    infected = data - deaths - recovered\n",
    "    \n",
    "    # susceptible = population - infected - deaths - recovered\n",
    "    susceptible = population - infected - deaths - recovered\n",
    "        \n",
    "    \n",
    "\n",
    "    return dates, np.arange(1, len(data) + 1), susceptible/population, infected/population\n",
    "    \n",
    "    "
   ]
  },
  {
   "cell_type": "code",
   "execution_count": 4,
   "metadata": {},
   "outputs": [],
   "source": [
    "dates, x, sus, inf = get_country_sir('italy', min_cases=100)"
   ]
  },
  {
   "cell_type": "code",
   "execution_count": null,
   "metadata": {},
   "outputs": [],
   "source": [
    "def sir_function(y, t, p):\n",
    "    ds "
   ]
  }
 ],
 "metadata": {
  "kernelspec": {
   "display_name": "Python 3",
   "language": "python",
   "name": "python3"
  },
  "language_info": {
   "codemirror_mode": {
    "name": "ipython",
    "version": 3
   },
   "file_extension": ".py",
   "mimetype": "text/x-python",
   "name": "python",
   "nbconvert_exporter": "python",
   "pygments_lexer": "ipython3",
   "version": "3.8.2"
  },
  "toc": {
   "base_numbering": 1,
   "nav_menu": {},
   "number_sections": true,
   "sideBar": true,
   "skip_h1_title": false,
   "title_cell": "Table of Contents",
   "title_sidebar": "Contents",
   "toc_cell": false,
   "toc_position": {},
   "toc_section_display": true,
   "toc_window_display": false
  }
 },
 "nbformat": 4,
 "nbformat_minor": 4
}
