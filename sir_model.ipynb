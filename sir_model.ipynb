{
 "cells": [
  {
   "cell_type": "code",
   "execution_count": 9,
   "metadata": {},
   "outputs": [
    {
     "name": "stdout",
     "output_type": "stream",
     "text": [
      "Running on PyMC3 v3.8\n"
     ]
    }
   ],
   "source": [
    "import numpy as np\n",
    "import matplotlib.pyplot as plt\n",
    "plt.style.use('seaborn-darkgrid')\n",
    "\n",
    "from sklearn.preprocessing import StandardScaler, MinMaxScaler\n",
    "\n",
    "import pymc3 as pm\n",
    "from pymc3.ode import DifferentialEquation\n",
    "print('Running on PyMC3 v{}'.format(pm.__version__))\n",
    "\n",
    "from bs4 import BeautifulSoup\n",
    "import requests\n",
    "import re\n",
    "\n",
    "import os\n",
    "\n",
    "from sklearn.externals import joblib \n",
    "\n",
    "import pandas as pd"
   ]
  },
  {
   "cell_type": "code",
   "execution_count": 2,
   "metadata": {},
   "outputs": [],
   "source": [
    "country = 'Canada'\n",
    "file = os.path.join('csv_out',country+'.csv')\n",
    "country_df = pd.read_csv(file)\n",
    "country_df\n",
    "\n",
    "def get_country_sir(country, start_date='', end_date='', min_cases=10):\n",
    "    \n",
    "    # update for any country\n",
    "    # italy\n",
    "    population = 60e6\n",
    "    \n",
    "    country = country.title().replace(' ', '_')\n",
    "    file = os.path.join('csv_out',country+'.csv')\n",
    "    country_df = pd.read_csv(file)\n",
    "    \n",
    "    start = country_df[country_df.Date == start_date].index\n",
    "    if len(start)==0:\n",
    "        start = 0\n",
    "    else:\n",
    "        start = start[0]\n",
    "        \n",
    "    end = country_df[country_df.Date == end_date].index\n",
    "    if len(end)==0:\n",
    "        end = country_df.index[-1]\n",
    "    else:\n",
    "        end = end[0]\n",
    "        \n",
    "    dates = country_df.loc[start:end + 1, 'Date'].values\n",
    "    data = country_df.loc[start:end + 1, 'Confirmed'].values\n",
    "    deaths = country_df.loc[start:end + 1, 'Deaths'].values\n",
    "    recovered = country_df.loc[start:end+1, 'Recovered'].values\n",
    "\n",
    "    if max(data) < min_cases:\n",
    "        print('Warning, {:d} cases has not occured in this date range.')\n",
    "    else:\n",
    "        min_start = np.where(np.array(data) >= min_cases)[0][0]\n",
    "        data = data[min_start:]\n",
    "        dates = dates[min_start:]\n",
    "        deaths = deaths[min_start:]\n",
    "        recovered = recovered[min_start:]\n",
    "        \n",
    "    # infected = total cases - deaths - recoveries\n",
    "    infected = data - deaths - recovered\n",
    "    \n",
    "    # susceptible = population - infected - deaths - recovered\n",
    "    susceptible = population - infected - deaths - recovered\n",
    "        \n",
    "    \n",
    "\n",
    "    return dates, np.arange(1, len(data) + 1), susceptible/population, infected/population\n",
    "    \n",
    "    "
   ]
  },
  {
   "cell_type": "code",
   "execution_count": 23,
   "metadata": {},
   "outputs": [],
   "source": [
    "dates, x, sus, inf = get_country_sir('italy', min_cases=100)\n",
    "# sus and inf are already normalized\n",
    "# just normalize x\n",
    "x_train = x[:-3]\n",
    "x_test = x[-3:]\n",
    "\n",
    "scalex = MinMaxScaler()\n",
    "x_scale = scalex.fit_transform(x_train.reshape(-1,1)).flatten()\n",
    "\n",
    "sus_train = sus[:-3]\n",
    "sus_test = sus[-3:]\n",
    "\n",
    "inf_train = inf[:-3]\n",
    "inf_test = inf[-3:]\n",
    "\n",
    "# make single array\n",
    "y_train = np.hstack((sus_train.reshape(-1,1), inf_train.reshape(-1,1)))\n",
    "y_test = np.hstack((sus_test.reshape(-1,1), inf_test.reshape(-1,1)))\n",
    "\n",
    "y_train.shape\n",
    "\n",
    "y0 = [y_train[0][0], y_train[0][1]]"
   ]
  },
  {
   "cell_type": "code",
   "execution_count": 29,
   "metadata": {},
   "outputs": [],
   "source": [
    "def sir_function(y, t, p):\n",
    "    # 'constants'\n",
    "    delta = p[0]\n",
    "    lmbda = p[1]\n",
    "    beta = p[2]*pm.math.exp(-t*delta)\n",
    "    \n",
    "    # y = (s, i)\n",
    "    \n",
    "    # susceptible differential\n",
    "    ds = -y[0]*y[1]*beta\n",
    "    \n",
    "    # infected differential\n",
    "    di = y[0]*y[1]*beta - y[1]*lmbda\n",
    "    \n",
    "    return [ds, di]\n",
    "\n",
    "\n",
    "sir_model = DifferentialEquation(\n",
    "    func=sir_function,\n",
    "    times=x_scale,\n",
    "    n_states=2, # number of y (sus and inf)\n",
    "    n_theta=3, # number of parameters (lambda, delta, beta_0)\n",
    "    t0=0\n",
    ")"
   ]
  },
  {
   "cell_type": "code",
   "execution_count": null,
   "metadata": {},
   "outputs": [
    {
     "name": "stdout",
     "output_type": "stream",
     "text": [
      "Initializing Priors\n",
      "Setting up model\n"
     ]
    },
    {
     "name": "stderr",
     "output_type": "stream",
     "text": [
      "Auto-assigning NUTS sampler...\n",
      "Initializing NUTS using jitter+adapt_diag...\n"
     ]
    },
    {
     "name": "stdout",
     "output_type": "stream",
     "text": [
      "Starting sampling\n"
     ]
    },
    {
     "name": "stderr",
     "output_type": "stream",
     "text": [
      "Multiprocess sampling (4 chains in 4 jobs)\n",
      "NUTS: [delta, lambda, R0, sigma]\n"
     ]
    }
   ],
   "source": [
    "with pm.Model() as model4:\n",
    "    \n",
    "    print('Initializing Priors')\n",
    "    sigma = pm.HalfCauchy('sigma', 1, shape=2)\n",
    "\n",
    "    # R0 is bounded below by 1 because we see an epidemic has occured\n",
    "    R0 = pm.Bound(pm.Normal, lower=1)('R0', 2,3)\n",
    "    lmbda = pm.Lognormal('lambda',pm.math.log(2), 2)\n",
    "    delta = pm.Lognormal('delta', pm.math.log(2), 2)\n",
    "    beta = pm.Deterministic('beta', lmbda*R0)\n",
    "    \n",
    "    \n",
    "    print('Setting up model')\n",
    "    sir_curves = sir_model(y0=y0, theta=[lmbda, delta, beta])\n",
    "\n",
    "    Y = pm.Lognormal('Y', mu=pm.math.log(sir_curves), sd=sigma, observed=y_train)\n",
    "\n",
    "    print('Starting sampling')\n",
    "    #prior = pm.sample_prior_predictive(progressbar=True)\n",
    "    trace = pm.sample(2000,tune=1000, target_accept=0.9, cores=4, progressbar=True)\n",
    "    posterior_predictive = pm.sample_posterior_predictive(trace, progressbar=True)\n",
    "\n",
    "    #data = az.from_pymc3(trace=trace, prior = prior, posterior_predictive = posterior_predictive)"
   ]
  },
  {
   "cell_type": "code",
   "execution_count": null,
   "metadata": {},
   "outputs": [],
   "source": []
  }
 ],
 "metadata": {
  "kernelspec": {
   "display_name": "Python 3",
   "language": "python",
   "name": "python3"
  },
  "language_info": {
   "codemirror_mode": {
    "name": "ipython",
    "version": 3
   },
   "file_extension": ".py",
   "mimetype": "text/x-python",
   "name": "python",
   "nbconvert_exporter": "python",
   "pygments_lexer": "ipython3",
   "version": "3.8.2"
  },
  "toc": {
   "base_numbering": 1,
   "nav_menu": {},
   "number_sections": true,
   "sideBar": true,
   "skip_h1_title": false,
   "title_cell": "Table of Contents",
   "title_sidebar": "Contents",
   "toc_cell": false,
   "toc_position": {},
   "toc_section_display": true,
   "toc_window_display": false
  }
 },
 "nbformat": 4,
 "nbformat_minor": 4
}
