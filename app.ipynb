{
 "cells": [
  {
   "cell_type": "code",
   "execution_count": 1,
   "metadata": {},
   "outputs": [],
   "source": [
    "from utils.helpers import *\n",
    "\n",
    "import ipywidgets as widgets\n",
    "from ipywidgets import interact, interact_manual\n",
    "\n",
    "import warnings\n",
    "warnings.filterwarnings('ignore')"
   ]
  },
  {
   "cell_type": "markdown",
   "metadata": {},
   "source": [
    "# Bayesian Modelling of Covid-19\n",
    "\n",
    "Here we consider two simple models for the growth of the number of cases in various countries: exponential vs sigmoidal. \n",
    "\n",
    "\n",
    "The exponential curve continues to increase with no slowdown, while a sigmoidal curve will eventually plateau. By comparing these two simple models we can see if countries are mitigating the effect of Covid-19 within their borders. \n",
    "\n",
    "\n",
    "To look at different models, simply:\n",
    "\n",
    "1. Choose a country \n",
    "2. Choose a number of days to forecast (default of 7)\n",
    "3. Click `Run Interact`"
   ]
  },
  {
   "cell_type": "code",
   "execution_count": 2,
   "metadata": {},
   "outputs": [
    {
     "data": {
      "application/vnd.jupyter.widget-view+json": {
       "model_id": "e326f68ada544071861afe729def5efc",
       "version_major": 2,
       "version_minor": 0
      },
      "text/plain": [
       "interactive(children=(Dropdown(description='Country:', index=6, options=('Canada', 'Canada Alberta', 'Canada B…"
      ]
     },
     "metadata": {},
     "output_type": "display_data"
    }
   ],
   "source": [
    "country_list = ['Italy', 'Germany', 'China', 'Spain', 'Canada', 'US', 'Canada British Columbia', 'Canada Alberta', 'Canada Ontario']\n",
    "country_list.sort()\n",
    "\n",
    "country_widget= widgets.Dropdown(\n",
    "    options=country_list,\n",
    "    value='Italy',\n",
    "    description='Country:',\n",
    "    disabled=False,\n",
    ")\n",
    "\n",
    "num_days_widget = widgets.IntText(\n",
    "    value=7,\n",
    "    step=1,\n",
    "    description='Number of Future Days:',\n",
    "    disabled=False,\n",
    "    continuous_update=False,\n",
    "    orientation='horizontal',\n",
    "    readout=True,\n",
    "    readout_format='d'\n",
    ")\n",
    "\n",
    "ymax_widget = widgets.IntText(\n",
    "    value=-1,\n",
    "    description='Y Max:',\n",
    "    disabled=False\n",
    ")\n",
    "\n",
    "out = interact_manual(plot_country, country=country_widget, num_days=num_days_widget, ymax = ymax_widget)\n",
    "#plot_country('Italy')"
   ]
  },
  {
   "cell_type": "code",
   "execution_count": null,
   "metadata": {},
   "outputs": [],
   "source": []
  },
  {
   "cell_type": "code",
   "execution_count": null,
   "metadata": {},
   "outputs": [],
   "source": []
  }
 ],
 "metadata": {
  "kernelspec": {
   "display_name": "Python 3",
   "language": "python",
   "name": "python3"
  },
  "language_info": {
   "codemirror_mode": {
    "name": "ipython",
    "version": 3
   },
   "file_extension": ".py",
   "mimetype": "text/x-python",
   "name": "python",
   "nbconvert_exporter": "python",
   "pygments_lexer": "ipython3",
   "version": "3.6.8"
  },
  "toc": {
   "base_numbering": 1,
   "nav_menu": {},
   "number_sections": true,
   "sideBar": true,
   "skip_h1_title": false,
   "title_cell": "Table of Contents",
   "title_sidebar": "Contents",
   "toc_cell": false,
   "toc_position": {},
   "toc_section_display": true,
   "toc_window_display": false
  }
 },
 "nbformat": 4,
 "nbformat_minor": 4
}
