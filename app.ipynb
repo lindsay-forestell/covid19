{
 "cells": [
  {
   "cell_type": "code",
   "execution_count": 1,
   "metadata": {},
   "outputs": [],
   "source": [
    "from utils.helpers import *\n",
    "\n",
    "import ipywidgets as widgets\n",
    "from ipywidgets import interact, interact_manual, fixed\n",
    "\n",
    "import warnings\n",
    "warnings.filterwarnings('ignore')"
   ]
  },
  {
   "cell_type": "markdown",
   "metadata": {},
   "source": [
    "# Bayesian Modelling of Covid-19\n",
    "---\n",
    "\n",
    "Here we consider two simple models for the growth of the number of cases in various countries: exponential vs sigmoidal. \n",
    "\n",
    "### Exponential\n",
    "\n",
    "An exponential model grows like:\n",
    "\n",
    "$\\alpha e^{\\beta  t}$ \n",
    "\n",
    "and is unbounded. As t, time, increases, the number of cases grows even faster. This is a crude approximation to what happens during an outbreak, but is fairly accurate early on, especially if no meaures are implemented to slow down the contagion. This exponential turn on of a virus is what we are hoping to slow down by social distancing, hygiene measures, and other efforts. \n",
    "\n",
    "### Sigmoid\n",
    "\n",
    "A sigmoid, or plateauing model, looks exponential initially before leveling off. The model looks roughly like:\n",
    "\n",
    "$\\frac{1}{1+ e^{-\\beta t}}$\n",
    "\n",
    "This is a slightly more accurate depiction of what may happen during an outbreak: there are only so many people who can become infected before eventually you reach (in theory) the entire population. \n",
    "\n",
    "\n",
    "### Comparison\n",
    "\n",
    "The exponential curve continues to increase with no slowdown, while a sigmoidal curve will eventually plateau. By comparing these two simple models we can see if countries are mitigating the effect of Covid-19 within their borders. \n",
    "\n",
    "\n",
    "To look at different models, simply:\n",
    "\n",
    "1. Choose a country \n",
    "2. Choose a number of days to forecast (default of 7)\n",
    "3. Click `Run Interact`\n",
    "\n",
    "\n",
    "Note that for some models with very few data points, the uncertainties on the curves are going to be massive! We need more time (and data) for these curves to settle in. "
   ]
  },
  {
   "cell_type": "code",
   "execution_count": 2,
   "metadata": {},
   "outputs": [
    {
     "data": {
      "application/vnd.jupyter.widget-view+json": {
       "model_id": "6c3281b106ab47788b936a6366e233b1",
       "version_major": 2,
       "version_minor": 0
      },
      "text/plain": [
       "interactive(children=(Dropdown(description='Country:', index=7, options=('Canada', 'Canada Alberta', 'Canada B…"
      ]
     },
     "metadata": {},
     "output_type": "display_data"
    }
   ],
   "source": [
    "country_list = ['Italy', 'Germany', 'China', 'Spain', 'Canada', 'US',\n",
    "                    'Canada British Columbia', 'Canada Alberta', 'Canada Ontario',\n",
    "                    'China Hong Kong', 'Korea South', 'Singapore']\n",
    "country_list.sort()\n",
    "\n",
    "country_widget= widgets.Dropdown(\n",
    "    options=country_list,\n",
    "    value='Italy',\n",
    "    description='Country:',\n",
    "    disabled=False,\n",
    ")\n",
    "\n",
    "num_days_widget = widgets.IntText(\n",
    "    value=7,\n",
    "    step=1,\n",
    "    description='Number of Future Days:',\n",
    "    disabled=False,\n",
    "    continuous_update=False,\n",
    "    orientation='horizontal',\n",
    "    readout=True,\n",
    "    readout_format='d'\n",
    ")\n",
    "\n",
    "ymax_widget = widgets.IntText(\n",
    "    value=-1,\n",
    "    description='Y Max:',\n",
    "    disabled=False\n",
    ")\n",
    "\n",
    "out = interact_manual(plot_country, country=country_widget, num_days=num_days_widget, ymax = ymax_widget)\n",
    "#plot_country('Italy')"
   ]
  },
  {
   "cell_type": "markdown",
   "metadata": {},
   "source": [
    "## SIR Model\n",
    "---\n",
    "\n",
    "Although a sigmoidal model will do a relatively good job of approximating the number of cases during an outbreak, we can still do better. One thing the sigmoid model does not take into account is the fact that people can recover, becoming resistant to the virus. As more people become resistant, it becomes more unlikely for a sick (infected) person to interact with and successfully infect a healthy person.\n",
    "\n",
    "To take into account (S)usceptible, (I)nfected, and (R)esistant members of the population, we can look at a SIR model. \n",
    "\n",
    "The basic setup of a SIR model is as follows:\n",
    "\n",
    "$ \\frac{dS}{dt} = -\\beta I(t)S(t) $\n",
    "\n",
    "$ \\frac{dI}{dt} = +\\beta I(t)S(t) - \\gamma I(t) $\n",
    "\n",
    "$ \\frac{dR}{dt} = \\gamma I(t) $\n",
    "\n",
    "$ S + I + R = 1$\n",
    "\n",
    "Where we have normalized to the population of interest.\n",
    "\n",
    "Essentially: infected people will recover over time with probability $\\gamma$, while they will infect susceptible people over time with probability $\\beta$. A parameter of interest is the combined ratio:\n",
    "\n",
    "$ R_0 = \\frac{\\beta}{\\gamma} $ \n",
    "\n",
    "This tells us roughly how many new people may get infected by a single person. $R_0 > 1$ implies an epidemic is taking place.\n",
    "\n",
    "### Flatten the Curve!!!\n",
    "\n",
    "So what can we do about all this? We can flatten that curve! We can't really change how likely we are to recover if we get sick ($\\gamma$). But if society as a whole can reduce the probability of getting sick in the first place ($\\beta$), then we can reduce the overall stress on hospitals, etc by reducing the total number of new cases on any given day. Too many all at once will overload the system, leading to worse care for those who need it.  \n",
    "\n",
    "We can do this mathematically by adding a new parameter, $\\delta$, that allows us to have $\\beta$ decrease over time. For example, if everyone starts to practice social distancing, $\\delta$ will increase. If those who can work from home do, $\\delta$ will increase. If kids stay home from school, $\\delta$ will increase. You get the idea!\n",
    "\n",
    "Let's check this out ... increase $\\delta$ and watch that curve flatten!"
   ]
  },
  {
   "cell_type": "code",
   "execution_count": 3,
   "metadata": {},
   "outputs": [
    {
     "data": {
      "application/vnd.jupyter.widget-view+json": {
       "model_id": "18e200e817d74e3bb2daf4c697e509b5",
       "version_major": 2,
       "version_minor": 0
      },
      "text/plain": [
       "interactive(children=(FloatSlider(value=0.0, description='Delta: ', max=0.02, readout=False, readout_format='.…"
      ]
     },
     "metadata": {},
     "output_type": "display_data"
    }
   ],
   "source": [
    "delta_widget = widgets.FloatSlider(\n",
    "    value=0.0,\n",
    "    min=0,\n",
    "    max=0.02,\n",
    "    step=0.005,\n",
    "    description='Delta: ',\n",
    "    disabled=False,\n",
    "    continuous_update=True,\n",
    "    orientation='horizontal',\n",
    "    readout=False,\n",
    "    readout_format='.1f',\n",
    ")\n",
    "\n",
    "out = interact(sir_plot_static, R0=fixed(10), gamma=fixed(1/30), delta=delta_widget)"
   ]
  },
  {
   "cell_type": "markdown",
   "metadata": {},
   "source": [
    "### SIR In The Real World\n",
    "---\n",
    "\n",
    "So what does this look like in the real world? We can use the same Bayesian techniques to estimate best fits for model parameters.\n",
    "\n",
    "Note that due to the complex nature of the model, this will take a little longer to load...\n"
   ]
  },
  {
   "cell_type": "code",
   "execution_count": 6,
   "metadata": {},
   "outputs": [
    {
     "data": {
      "application/vnd.jupyter.widget-view+json": {
       "model_id": "ed27d51a05a848dcbb01b3d3b75ebb50",
       "version_major": 2,
       "version_minor": 0
      },
      "text/plain": [
       "interactive(children=(Dropdown(description='Country:', options=('Canada British Columbia',), value='Canada Bri…"
      ]
     },
     "metadata": {},
     "output_type": "display_data"
    }
   ],
   "source": [
    "country_sir_list = [\n",
    "    #'Italy', \n",
    "    #'Germany', \n",
    "    #'China', \n",
    "    #'Spain', \n",
    "    #'Canada', \n",
    "    #'US',\n",
    "    'Canada British Columbia', \n",
    "    #'Canada Alberta', \n",
    "    #'Canada Ontario',         \n",
    "    #'China Hong Kong', \n",
    "    #'Korea South', \n",
    "    #'Singapore'\n",
    "]\n",
    "country_sir_list.sort()\n",
    "\n",
    "country_sir_widget= widgets.Dropdown(\n",
    "    options=country_sir_list,\n",
    "    value='Canada British Columbia',\n",
    "    description='Country:',\n",
    "    disabled=False,\n",
    ")\n",
    "\n",
    "out = interact_manual(sir_bayes_plot, country=country_sir_widget, num_days=fixed(300))"
   ]
  },
  {
   "cell_type": "code",
   "execution_count": null,
   "metadata": {},
   "outputs": [],
   "source": []
  }
 ],
 "metadata": {
  "kernelspec": {
   "display_name": "Python 3",
   "language": "python",
   "name": "python3"
  },
  "language_info": {
   "codemirror_mode": {
    "name": "ipython",
    "version": 3
   },
   "file_extension": ".py",
   "mimetype": "text/x-python",
   "name": "python",
   "nbconvert_exporter": "python",
   "pygments_lexer": "ipython3",
   "version": "3.8.2"
  },
  "toc": {
   "base_numbering": 1,
   "nav_menu": {},
   "number_sections": true,
   "sideBar": true,
   "skip_h1_title": false,
   "title_cell": "Table of Contents",
   "title_sidebar": "Contents",
   "toc_cell": false,
   "toc_position": {},
   "toc_section_display": true,
   "toc_window_display": false
  }
 },
 "nbformat": 4,
 "nbformat_minor": 4
}
